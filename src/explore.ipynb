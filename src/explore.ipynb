{
    "cells": [
        {
            "cell_type": "markdown",
            "metadata": {},
            "source": [
                "# Explore here\n",
                "\n",
                "It's recommended to use this notebook for exploration purposes."
            ]
        },
        {
            "cell_type": "code",
            "execution_count": 1,
            "metadata": {},
            "outputs": [
                {
                    "name": "stdout",
                    "output_type": "stream",
                    "text": [
                        "<Response [200]>\n"
                    ]
                }
            ],
            "source": [
                "import requests\n",
                "import pandas as pd\n",
                "import time\n",
                "\n",
                "\n",
                "#url=\"https://www.macrotrends.net/stocks/charts/TSLA/tesla/revenue\"\n",
                "url=\"https://es.wikipedia.org/wiki/Leucocito\"\n",
                "#https://es.wikipedia.org/wiki/Leucocito \n",
                "#(tabla de tipos de leucocitos y gráfica de la relación del diámetro y porcentaje aproximado de adultos#\n",
                "response= requests.get(url)\n",
                "print(response)\n",
                "print(response.text)\n",
                "\n"
            ]
        },
        {
            "cell_type": "code",
            "execution_count": 22,
            "metadata": {},
            "outputs": [
                {
                    "name": "stdout",
                    "output_type": "stream",
                    "text": [
                        "<class 'bs4.element.ResultSet'>\n",
                        "Index(['Tipo', 'Apariencia microscópica', 'Diagrama',\n",
                        "       'Porcentaje aproximado en adultos', 'Diámetro (μm)',\n",
                        "       '[7]​ Principal objetivo', '[4]​ Núcleo', '[4]​ Gránulos',\n",
                        "       '[4]​ Vida media[7]​'],\n",
                        "      dtype='object')\n",
                        "         Tipo Apariencia microscópica Diagrama  \\\n",
                        "0  Neutrófilo                                    \n",
                        "1  Eosinófilo                                    \n",
                        "2    Basófilo                                    \n",
                        "3   Linfocito                                    \n",
                        "4    Monocito                                    \n",
                        "\n",
                        "  Porcentaje aproximado en adultos  \\\n",
                        "0                              62%   \n",
                        "1                             2.3%   \n",
                        "2                             0.4%   \n",
                        "3                              30%   \n",
                        "4                             5.3%   \n",
                        "\n",
                        "                                       Diámetro (μm)  \\\n",
                        "0                                              10-12   \n",
                        "1                                              10-12   \n",
                        "2                                              12-15   \n",
                        "3  Linfocitos pequeños: 7–8 Linfocitos grandes: 1...   \n",
                        "4                                          12-15[8]​   \n",
                        "\n",
                        "                             [7]​ Principal objetivo  \\\n",
                        "0                           Bacterias\\nHongos\\nVirus   \n",
                        "1  Macroparásitos\\nModulan respuesta alérgica inf...   \n",
                        "2      Liberan histamina para respuesta inflamatoria   \n",
                        "3  Linfocitos B: libera anticuerpos y coopera par...   \n",
                        "4  Los monocitos migran desde el torrente sanguín...   \n",
                        "\n",
                        "                           [4]​ Núcleo  \\\n",
                        "0                        Multilobulado   \n",
                        "1                          Bi-lobulado   \n",
                        "2           Bi-lobulado o tri-lobulado   \n",
                        "3  Es excéntrico y se tiñe fuertemente   \n",
                        "4                           Arriñonado   \n",
                        "\n",
                        "                               [4]​ Gránulos  \\\n",
                        "0     Fino, ligeramente rosado (tinción HyE)   \n",
                        "1  Se encuentran en un color rosa-anaranjado   \n",
                        "2                                Azul oscuro   \n",
                        "3       Células NK y células CD8 citotóxicas   \n",
                        "4                                    Ninguno   \n",
                        "\n",
                        "                                 [4]​ Vida media[7]​  \n",
                        "0  6 horas-unos cuantos días, dura días en bazo y...  \n",
                        "1  8–12 días; circulan por 4 o 5 horas en el torr...  \n",
                        "2                    De pocas horas hasta pocos días  \n",
                        "3  Años, para células de memoria; y semanas para ...  \n",
                        "4                                    De horas a días  \n"
                    ]
                }
            ],
            "source": [
                "from bs4 import BeautifulSoup\n",
                "\n",
                "soup = BeautifulSoup(response.text, 'html.parser')\n",
                "#print(soup)\n",
                "\n",
                "#tabla de tipos de leucocitos\n",
                "tabla_tipos = soup.find_all(\"table\", class_=\"wikitable\")\n",
                "#print(tabla_tipos)\n",
                "#print(type(tabla_tipos))\n",
                "\n",
                "#Vamos a transformarlo en un df\n",
                "data = []\n",
                "\n",
                "for table in tabla_tipos:\n",
                "    rows = table.find_all('tr')\n",
                "    header = [header.text.strip() for header in rows[0].find_all('th')]\n",
                "    \n",
                "    for row in rows[1:]:\n",
                "        values = [value.text.strip() for value in row.find_all('td')]\n",
                "        data.append(dict(zip(header, values)))\n",
                "\n",
                "df = pd.DataFrame(data)\n",
                "\n",
                "# Mostrar el DataFrame\n",
                "print(df.columns)\n",
                "\n",
                "print(df)\n",
                "#gráfica de la relación del diámetro y \n",
                "#porcentaje aproximado de adultos\n",
                "\n"
            ]
        },
        {
            "cell_type": "code",
            "execution_count": 23,
            "metadata": {},
            "outputs": [
                {
                    "name": "stdout",
                    "output_type": "stream",
                    "text": [
                        "0    10\n",
                        "1    10\n",
                        "2    12\n",
                        "3     7\n",
                        "4    12\n",
                        "Name: Diametro min, dtype: object 0     62\n",
                        "1    2.3\n",
                        "2    0.4\n",
                        "3     30\n",
                        "4    5.3\n",
                        "Name: %, dtype: object\n"
                    ]
                },
                {
                    "data": {
                        "image/png": "[encoded data removed]",
                        "text/plain": [
                            "<Figure size 640x480 with 1 Axes>"
                        ]
                    },
                    "metadata": {},
                    "output_type": "display_data"
                }
            ],
            "source": [
                "#Vamos a hacer un gráfico del diámetro por el % de adultos\n",
                "import matplotlib.pyplot as plt\n",
                "\n",
                "#1º Vamos a obtener los números de la columna Diametro [4]\n",
                "df['Diametro min']= df.iloc[:,4].str.extract('(\\d+(\\.\\d+)?)', expand=True)[0]\n",
                "\n",
                "#2º Lo mismo de la columna de % para poder convertirlo en número\n",
                "df['%']= df.iloc[:,3].str.extract('(\\d+(\\.\\d+)?)', expand=True)[0]\n",
                "print(df['Diametro min'],df['%'])\n",
                "\n",
                "a=df['Diametro min']\n",
                "b=df['%']\n",
                "#Las transformamos en números\n",
                "df['%']=[float(valor) for valor in b]\n",
                "df['Diametro min']=[float(valor) for valor in a]\n",
                "\n",
                "#Hacemos un gráfico de puntos\n",
                "\n",
                "plt.scatter(df['Diametro min'],df['%'])\n",
                "plt.xlabel('Diametro')\n",
                "plt.ylabel('% de adultos')\n",
                "plt.show()\n"
            ]
        }
    ],
    "metadata": {
        "kernelspec": {
            "display_name": "Python 3.8.13 64-bit ('3.8.13')",
            "language": "python",
            "name": "python3"
        },
        "language_info": {
            "codemirror_mode": {
                "name": "ipython",
                "version": 3
            },
            "file_extension": ".py",
            "mimetype": "text/x-python",
            "name": "python",
            "nbconvert_exporter": "python",
            "pygments_lexer": "ipython3",
            "version": "3.10.13"
        },
        "orig_nbformat": 4,
        "vscode": {
            "interpreter": {
                "hash": "110cc1dee26208153f2972f08a2ad52b6a56238dc66d48e87fb757ef2996db56"
            }
        }
    },
    "nbformat": 4,
    "nbformat_minor": 2
}
